{
 "cells": [
  {
   "cell_type": "code",
   "execution_count": 1,
   "metadata": {
    "ExecuteTime": {
     "end_time": "2022-08-19T11:43:09.867818Z",
     "start_time": "2022-08-19T11:43:01.489704Z"
    }
   },
   "outputs": [],
   "source": [
    "import pandas as pd \n",
    "import matplotlib.pyplot as plt \n",
    "%matplotlib inline\n",
    "import seaborn as sns"
   ]
  },
  {
   "cell_type": "markdown",
   "metadata": {},
   "source": [
    "# 1- Dis Plot"
   ]
  },
  {
   "cell_type": "code",
   "execution_count": 17,
   "metadata": {
    "ExecuteTime": {
     "end_time": "2022-08-19T07:30:26.160555Z",
     "start_time": "2022-08-19T07:30:26.144371Z"
    }
   },
   "outputs": [],
   "source": [
    "##sns.displot(x, hist= True, KDE = True, rug=True)\n",
    "# بيجيب الشكل عادي زي normal dist\n",
    "# بس أقدر اتحكم في اكتر "
   ]
  },
  {
   "cell_type": "markdown",
   "metadata": {},
   "source": [
    "# 2- KDE PLOT "
   ]
  },
  {
   "cell_type": "code",
   "execution_count": 16,
   "metadata": {
    "ExecuteTime": {
     "end_time": "2022-08-19T07:30:07.243203Z",
     "start_time": "2022-08-19T07:30:07.232979Z"
    }
   },
   "outputs": [],
   "source": [
    "#sns.kdeplot(x,   shade= True, n_levels=5, kernel=\"cos\", bw=\"silverman\",gridsize=5, cumulative=True)\n",
    "#sns.kdeplot(x,y, shade= True, n_levels=5, kernel=\"cos\", bw=\"silverman\",gridsize=5, cumulative=True) ----> multi \n",
    "# بيجيب الشكل عادي زي normal dist"
   ]
  },
  {
   "cell_type": "markdown",
   "metadata": {},
   "source": [
    "#  Doc for the library\n"
   ]
  },
  {
   "cell_type": "code",
   "execution_count": 9,
   "metadata": {
    "ExecuteTime": {
     "end_time": "2022-08-19T07:22:42.047756Z",
     "start_time": "2022-08-19T07:22:42.032226Z"
    }
   },
   "outputs": [],
   "source": [
    "#sns.kdeplot?"
   ]
  },
  {
   "cell_type": "code",
   "execution_count": 10,
   "metadata": {
    "ExecuteTime": {
     "end_time": "2022-08-19T07:25:13.118207Z",
     "start_time": "2022-08-19T07:25:13.103492Z"
    }
   },
   "outputs": [],
   "source": [
    "#sns.displot?"
   ]
  },
  {
   "cell_type": "code",
   "execution_count": 12,
   "metadata": {
    "ExecuteTime": {
     "end_time": "2022-08-19T07:27:11.268931Z",
     "start_time": "2022-08-19T07:27:11.263938Z"
    }
   },
   "outputs": [],
   "source": [
    "#sns.pairplot?"
   ]
  },
  {
   "cell_type": "markdown",
   "metadata": {},
   "source": [
    "# 3- Pair plot"
   ]
  },
  {
   "cell_type": "code",
   "execution_count": 14,
   "metadata": {
    "ExecuteTime": {
     "end_time": "2022-08-19T07:29:13.026126Z",
     "start_time": "2022-08-19T07:29:13.009105Z"
    }
   },
   "outputs": [],
   "source": [
    "#sns.pairplot(df, kind= 'reg',hue='', diag_kind='kde')\n",
    "# بيطلع أكثر من شكل للداتا كل حاجة يعني لو عندي س ,ص هيجيب الشكل مره س على الطول ومره على العرض "
   ]
  },
  {
   "cell_type": "markdown",
   "metadata": {},
   "source": [
    "# 4- Box Plot"
   ]
  },
  {
   "cell_type": "code",
   "execution_count": 2,
   "metadata": {
    "ExecuteTime": {
     "end_time": "2022-08-19T11:53:26.994707Z",
     "start_time": "2022-08-19T11:53:26.979704Z"
    }
   },
   "outputs": [],
   "source": [
    "#sns.boxplot(x= df.x , hue)\n",
    "#sns.boxplot(x=, y=, data = , hue)"
   ]
  },
  {
   "cell_type": "code",
   "execution_count": 3,
   "metadata": {
    "ExecuteTime": {
     "end_time": "2022-08-19T11:53:33.147997Z",
     "start_time": "2022-08-19T11:53:33.135993Z"
    }
   },
   "outputs": [],
   "source": [
    "#sns.boxplot?"
   ]
  },
  {
   "cell_type": "markdown",
   "metadata": {},
   "source": [
    "# 5- Violin Plot"
   ]
  },
  {
   "cell_type": "code",
   "execution_count": 4,
   "metadata": {
    "ExecuteTime": {
     "end_time": "2022-08-19T12:00:36.096069Z",
     "start_time": "2022-08-19T12:00:36.089059Z"
    }
   },
   "outputs": [],
   "source": [
    "#sns.violinplot(x,y, hue= , data = , inner= )\n",
    "#sns.violinplot(x,y, hue= , data = , inner= )"
   ]
  },
  {
   "cell_type": "code",
   "execution_count": 6,
   "metadata": {
    "ExecuteTime": {
     "end_time": "2022-08-19T12:01:05.735902Z",
     "start_time": "2022-08-19T12:01:05.727908Z"
    }
   },
   "outputs": [],
   "source": [
    "#sns.violinplot?"
   ]
  },
  {
   "cell_type": "markdown",
   "metadata": {},
   "source": [
    "# 6- Heat Map"
   ]
  },
  {
   "cell_type": "code",
   "execution_count": 8,
   "metadata": {
    "ExecuteTime": {
     "end_time": "2022-08-19T12:08:43.335631Z",
     "start_time": "2022-08-19T12:08:43.327629Z"
    }
   },
   "outputs": [],
   "source": [
    "#sns.heatmap?\n"
   ]
  },
  {
   "cell_type": "code",
   "execution_count": 9,
   "metadata": {
    "ExecuteTime": {
     "end_time": "2022-08-19T12:08:44.267676Z",
     "start_time": "2022-08-19T12:08:44.256674Z"
    }
   },
   "outputs": [],
   "source": [
    "#sns.heatmap(x, vmin= , vmax= ,robust=)"
   ]
  },
  {
   "cell_type": "code",
   "execution_count": null,
   "metadata": {},
   "outputs": [],
   "source": []
  }
 ],
 "metadata": {
  "kernelspec": {
   "display_name": "Python 3",
   "language": "python",
   "name": "python3"
  },
  "language_info": {
   "codemirror_mode": {
    "name": "ipython",
    "version": 3
   },
   "file_extension": ".py",
   "mimetype": "text/x-python",
   "name": "python",
   "nbconvert_exporter": "python",
   "pygments_lexer": "ipython3",
   "version": "3.8.5"
  }
 },
 "nbformat": 4,
 "nbformat_minor": 4
}
